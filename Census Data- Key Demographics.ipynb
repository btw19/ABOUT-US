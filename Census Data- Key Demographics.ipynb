{
 "cells": [
  {
   "cell_type": "code",
   "execution_count": 5,
   "metadata": {
    "scrolled": true
   },
   "outputs": [
    {
     "name": "stdout",
     "output_type": "stream",
     "text": [
      "Requirement already satisfied: censusdata in ./opt/anaconda3/lib/python3.7/site-packages (1.7)\n",
      "Requirement already satisfied: pandas in ./opt/anaconda3/lib/python3.7/site-packages (from censusdata) (1.0.1)\n",
      "Requirement already satisfied: requests in ./opt/anaconda3/lib/python3.7/site-packages (from censusdata) (2.22.0)\n",
      "Requirement already satisfied: pytz>=2017.2 in ./opt/anaconda3/lib/python3.7/site-packages (from pandas->censusdata) (2019.3)\n",
      "Requirement already satisfied: numpy>=1.13.3 in ./opt/anaconda3/lib/python3.7/site-packages (from pandas->censusdata) (1.18.1)\n",
      "Requirement already satisfied: python-dateutil>=2.6.1 in ./opt/anaconda3/lib/python3.7/site-packages (from pandas->censusdata) (2.8.1)\n",
      "Requirement already satisfied: certifi>=2017.4.17 in ./opt/anaconda3/lib/python3.7/site-packages (from requests->censusdata) (2019.11.28)\n",
      "Requirement already satisfied: idna<2.9,>=2.5 in ./opt/anaconda3/lib/python3.7/site-packages (from requests->censusdata) (2.8)\n",
      "Requirement already satisfied: urllib3!=1.25.0,!=1.25.1,<1.26,>=1.21.1 in ./opt/anaconda3/lib/python3.7/site-packages (from requests->censusdata) (1.25.8)\n",
      "Requirement already satisfied: chardet<3.1.0,>=3.0.2 in ./opt/anaconda3/lib/python3.7/site-packages (from requests->censusdata) (3.0.4)\n",
      "Requirement already satisfied: six>=1.5 in ./opt/anaconda3/lib/python3.7/site-packages (from python-dateutil>=2.6.1->pandas->censusdata) (1.14.0)\n",
      "Note: you may need to restart the kernel to use updated packages.\n"
     ]
    }
   ],
   "source": [
    "pip install censusdata\n"
   ]
  },
  {
   "cell_type": "code",
   "execution_count": 6,
   "metadata": {},
   "outputs": [
    {
     "name": "stdout",
     "output_type": "stream",
     "text": [
      "Variable     | Table                          | Label                                                    | Type \n",
      "-------------------------------------------------------------------------------------------------------------------\n",
      "B02001_001E  | RACE                           | !! Estimate Total                                        | int  \n",
      "B02001_002E  | RACE                           | !! !! Estimate Total White alone                         | int  \n",
      "B02001_003E  | RACE                           | !! !! Estimate Total Black or African American alone     | int  \n",
      "B02001_004E  | RACE                           | !! !! Estimate Total American Indian and Alaska Native a | int  \n",
      "B02001_005E  | RACE                           | !! !! Estimate Total Asian alone                         | int  \n",
      "B02001_006E  | RACE                           | !! !! Estimate Total Native Hawaiian and Other Pacific I | int  \n",
      "B02001_007E  | RACE                           | !! !! Estimate Total Some other race alone               | int  \n",
      "B02001_008E  | RACE                           | !! !! Estimate Total Two or more races                   | int  \n",
      "B02001_009E  | RACE                           | !! !! !! Estimate Total Two or more races Two races incl | int  \n",
      "B02001_010E  | RACE                           | !! !! !! Estimate Total Two or more races Two races excl | int  \n",
      "-------------------------------------------------------------------------------------------------------------------\n"
     ]
    }
   ],
   "source": [
    "#B02001 DOES have block groups\n",
    "import pandas as pd ; import censusdata\n",
    "censusdata.printtable(censusdata.censustable('acs5', 2018, 'B02001'))"
   ]
  },
  {
   "cell_type": "code",
   "execution_count": null,
   "metadata": {},
   "outputs": [],
   "source": []
  },
  {
   "cell_type": "code",
   "execution_count": null,
   "metadata": {},
   "outputs": [],
   "source": []
  },
  {
   "cell_type": "code",
   "execution_count": 7,
   "metadata": {},
   "outputs": [],
   "source": [
    "CensusOverviewRace = censusdata.download('acs5', 2018, censusdata.censusgeo([('state', '37'), ('county', '*')]), [\"B02001_001E\", \"B02001_002E\", \"B02001_003E\", \"B02001_004E\", \"B02001_005E\", \"B02001_006E\", \"B02001_007E\", \"B02001_008E\"])"
   ]
  },
  {
   "cell_type": "code",
   "execution_count": 8,
   "metadata": {},
   "outputs": [],
   "source": [
    "CensusOverviewRace = CensusOverviewRace.rename(columns={\"B02001_001E\": \"Estimated Total\", \"B02001_002E\": \"White alone\", \"B02001_003E\": \"Black or African American Alone\", \"B02001_004E\": \"American Indian or Alaskan Native alone\", \"B02001_005E\": \"Asian alone\", \"B02001_006E\": \"Native Hawaiian and Other Pacific Islander alone\", \"B02001_007E\": \"Other alone\", \"B02001_008E\": \"Total two or more races\"})"
   ]
  },
  {
   "cell_type": "code",
   "execution_count": null,
   "metadata": {},
   "outputs": [],
   "source": []
  },
  {
   "cell_type": "code",
   "execution_count": null,
   "metadata": {},
   "outputs": [],
   "source": []
  },
  {
   "cell_type": "code",
   "execution_count": 9,
   "metadata": {},
   "outputs": [
    {
     "ename": "NameError",
     "evalue": "name 'counties' is not defined",
     "output_type": "error",
     "traceback": [
      "\u001b[0;31m---------------------------------------------------------------------------\u001b[0m",
      "\u001b[0;31mNameError\u001b[0m                                 Traceback (most recent call last)",
      "\u001b[0;32m<ipython-input-9-440e86dad0a1>\u001b[0m in \u001b[0;36m<module>\u001b[0;34m\u001b[0m\n\u001b[0;32m----> 1\u001b[0;31m \u001b[0mcounties\u001b[0m\u001b[0;34m[\u001b[0m\u001b[0;34m'Mitchell County, North Carolina'\u001b[0m\u001b[0;34m]\u001b[0m\u001b[0;34m.\u001b[0m\u001b[0mgeo\u001b[0m\u001b[0;34m[\u001b[0m\u001b[0;36m1\u001b[0m\u001b[0;34m]\u001b[0m\u001b[0;34m[\u001b[0m\u001b[0;36m1\u001b[0m\u001b[0;34m]\u001b[0m\u001b[0;34m\u001b[0m\u001b[0;34m\u001b[0m\u001b[0m\n\u001b[0m",
      "\u001b[0;31mNameError\u001b[0m: name 'counties' is not defined"
     ]
    }
   ],
   "source": [
    "counties['Mitchell County, North Carolina'].geo[1][1]"
   ]
  },
  {
   "cell_type": "code",
   "execution_count": null,
   "metadata": {},
   "outputs": [],
   "source": [
    "counties"
   ]
  },
  {
   "cell_type": "code",
   "execution_count": null,
   "metadata": {
    "scrolled": true
   },
   "outputs": [],
   "source": [
    "CensusOverview = censusdata.download('acs5', 2018, censusdata.censusgeo([('state', '37'), ('county', '031'), ('block group', '*')]), [\"B02001_001E\", \"B02001_002E\", \"B02001_003E\", \"B02001_004E\", \"B02001_005E\", \"B02001_006E\", \"B02001_007E\", \"B02001_008E\", \"B02001_009E\", \"B02001_010E\"])"
   ]
  },
  {
   "cell_type": "code",
   "execution_count": null,
   "metadata": {},
   "outputs": [],
   "source": [
    "CensusOverview"
   ]
  },
  {
   "cell_type": "code",
   "execution_count": null,
   "metadata": {},
   "outputs": [],
   "source": []
  },
  {
   "cell_type": "code",
   "execution_count": null,
   "metadata": {},
   "outputs": [],
   "source": []
  },
  {
   "cell_type": "code",
   "execution_count": null,
   "metadata": {},
   "outputs": [],
   "source": []
  },
  {
   "cell_type": "code",
   "execution_count": null,
   "metadata": {},
   "outputs": [],
   "source": []
  },
  {
   "cell_type": "code",
   "execution_count": null,
   "metadata": {},
   "outputs": [],
   "source": []
  },
  {
   "cell_type": "code",
   "execution_count": null,
   "metadata": {},
   "outputs": [],
   "source": [
    "#INCOME"
   ]
  },
  {
   "cell_type": "code",
   "execution_count": null,
   "metadata": {},
   "outputs": [],
   "source": [
    "#B06010 does not have block groups\n",
    "import pandas as pd ; import censusdata\n",
    "censusdata.printtable(censusdata.censustable('acs5', 2018, 'B06010'))"
   ]
  },
  {
   "cell_type": "code",
   "execution_count": null,
   "metadata": {},
   "outputs": [],
   "source": [
    "import re\n",
    "# this will get you all the \"answers\" (e.g. 'B02001_001E') associated with a particular 'question' ('B02001')\n",
    "\n",
    "mapping = {k: re.sub(\"(Total)|(Estimate)|\\\\!\", \"\", v['label']) or \"Total\" \n",
    "           for k,v in censusdata.censustable('acs5', 2018, 'B06010').items()}\n",
    "mapping"
   ]
  },
  {
   "cell_type": "code",
   "execution_count": null,
   "metadata": {},
   "outputs": [],
   "source": [
    "incomes = list(mapping.keys()) # get just the 'questions'"
   ]
  },
  {
   "cell_type": "code",
   "execution_count": null,
   "metadata": {},
   "outputs": [],
   "source": [
    "incomes"
   ]
  },
  {
   "cell_type": "code",
   "execution_count": null,
   "metadata": {},
   "outputs": [],
   "source": [
    "CensusOverviewIncome = censusdata.download('acs5', 2018, censusdata.censusgeo([('state', '37'), ('county', '*')]), [\"B06010_001E\", \n",
    "                        \"B06010_002E\", \"B06010_003E\", \"B06010_004E\", \"B06010_005E\", \"B06010_006E\", \"B06010_007E\", \n",
    "                        \"B06010_008E\", \"B06010_009E\", \"B06010_010E\", \"B06010_011E\"])"
   ]
  },
  {
   "cell_type": "code",
   "execution_count": null,
   "metadata": {
    "scrolled": true
   },
   "outputs": [],
   "source": [
    "CensusOverviewIncome"
   ]
  },
  {
   "cell_type": "code",
   "execution_count": null,
   "metadata": {},
   "outputs": [],
   "source": [
    "CensusOverviewIncome = CensusOverviewIncome.rename(columns={'B06010_001E': 'Total Estimate', \n",
    "                        \"B06010_002E\": 'Total No Income', \"B06010_003E\": 'Total With Income', \"B06010_004E\": '$1-9,999 (or loss)', \"B06010_005E\": \"$10,000-14,999\", \"B06010_006E\": \"$15,000-24,999\", \"B06010_007E\": \"$25,000-34,999\", \n",
    "                        \"B06010_008E\": \"$35,000-49,999\", \"B06010_009E\": \"$50,000-64,999\", \"B06010_010E\": \"$65,000-74,999\", \"B06010_011E\": \">$75,000\"})"
   ]
  },
  {
   "cell_type": "code",
   "execution_count": null,
   "metadata": {},
   "outputs": [],
   "source": [
    "CensusOverviewIncome"
   ]
  },
  {
   "cell_type": "code",
   "execution_count": null,
   "metadata": {},
   "outputs": [],
   "source": [
    "incomecsv = CensusOverviewIncome.to_csv(\"/Users/peytoncox/individualincome.csv\", index=False)"
   ]
  },
  {
   "cell_type": "code",
   "execution_count": null,
   "metadata": {},
   "outputs": [],
   "source": [
    "incomecsv"
   ]
  },
  {
   "cell_type": "code",
   "execution_count": null,
   "metadata": {},
   "outputs": [],
   "source": []
  },
  {
   "cell_type": "code",
   "execution_count": null,
   "metadata": {},
   "outputs": [],
   "source": []
  },
  {
   "cell_type": "code",
   "execution_count": null,
   "metadata": {},
   "outputs": [],
   "source": [
    "#EDUCATIONAL ATTAINMENT"
   ]
  },
  {
   "cell_type": "code",
   "execution_count": null,
   "metadata": {},
   "outputs": [],
   "source": [
    "#B06009 also does not have block groups\n",
    "import pandas as pd ; import censusdata\n",
    "censusdata.printtable(censusdata.censustable('acs5', 2018, 'B06009'))"
   ]
  },
  {
   "cell_type": "code",
   "execution_count": null,
   "metadata": {},
   "outputs": [],
   "source": [
    "CensusOverviewEducation = censusdata.download('acs5', 2018, censusdata.censusgeo([('state', '37'), ('county', '*')]), [\"B06009_001E\", \n",
    "                            \"B06009_002E\", \"B06009_003E\", \"B06009_004E\", \"B06009_005E\", \"B06009_006E\"])"
   ]
  },
  {
   "cell_type": "code",
   "execution_count": null,
   "metadata": {},
   "outputs": [],
   "source": [
    "CensusOverviewEducation"
   ]
  },
  {
   "cell_type": "code",
   "execution_count": null,
   "metadata": {},
   "outputs": [],
   "source": [
    "CensusOverviewEducation = CensusOverviewEducation.rename(columns={\"B06009_001E\": \"Estimate Total Education\", \n",
    "                            \"B06009_002E\": \"Less than high school graduate\", \"B06009_003E\": \"High school graduate\", \"B06009_004E\": \"Some college or associate's degree\", \"B06009_005E\": \"Bachelor's degree\", \"B06009_006E\": \"Graduate or professional degree\"})"
   ]
  },
  {
   "cell_type": "code",
   "execution_count": null,
   "metadata": {},
   "outputs": [],
   "source": [
    "CensusOverviewEducation"
   ]
  },
  {
   "cell_type": "code",
   "execution_count": null,
   "metadata": {},
   "outputs": [],
   "source": [
    "educationcsv = CensusOverviewEducation.to_csv(\"/Users/Peytoncox/education.csv\", index=False)"
   ]
  },
  {
   "cell_type": "code",
   "execution_count": null,
   "metadata": {
    "scrolled": false
   },
   "outputs": [],
   "source": [
    "educationcsv"
   ]
  },
  {
   "cell_type": "code",
   "execution_count": null,
   "metadata": {},
   "outputs": [],
   "source": [
    "compression_opts = dict(method='zip', archive_name='out.csv')  \n",
    "CensusOverviewEducation.to_csv('out.zip', index=False, compression=compression_opts)"
   ]
  },
  {
   "cell_type": "code",
   "execution_count": null,
   "metadata": {},
   "outputs": [],
   "source": []
  },
  {
   "cell_type": "code",
   "execution_count": null,
   "metadata": {},
   "outputs": [],
   "source": []
  },
  {
   "cell_type": "code",
   "execution_count": null,
   "metadata": {},
   "outputs": [],
   "source": [
    "#AGE"
   ]
  },
  {
   "cell_type": "code",
   "execution_count": null,
   "metadata": {},
   "outputs": [],
   "source": [
    "#B06001 does not have block groups\n",
    "import pandas as pd ; import censusdata\n",
    "censusdata.printtable(censusdata.censustable('acs5', 2018, 'B06001'))"
   ]
  },
  {
   "cell_type": "code",
   "execution_count": null,
   "metadata": {},
   "outputs": [],
   "source": [
    "CensusOverviewAge = censusdata.download('acs5', 2018, censusdata.censusgeo([('state', '37'), ('county', '*')]), [\"B06001_001E\",\n",
    "                    \"B06001_002E\", \"B06001_003E\", \"B06001_004E\", \"B06001_005E\", \"B06001_006E\", \"B06001_007E\",\n",
    "                    \"B06001_008E\", \"B06001_009E\", \"B06001_010E\", \"B06001_011E\", \"B06001_012E\"])"
   ]
  },
  {
   "cell_type": "code",
   "execution_count": null,
   "metadata": {},
   "outputs": [],
   "source": [
    "CensusOverviewAge"
   ]
  },
  {
   "cell_type": "code",
   "execution_count": null,
   "metadata": {},
   "outputs": [],
   "source": [
    "CensusOverviewAge = CensusOverviewAge.rename(columns={\"B06001_001E\": \"Total Age Estimate\",\n",
    "                    \"B06001_002E\": \"Ages<5\", \"B06001_003E\": \"Ages 5-17\", \"B06001_004E\": \"Ages 18-24\", \"B06001_005E\": \"Ages 25-34\", \"B06001_006E\": \"Ages 35-44\", \"B06001_007E\": \"Ages 45-54\",\n",
    "                    \"B06001_008E\": \"Ages 55-59\", \"B06001_009E\": \"Ages 60-61\", \"B06001_010E\": \"Ages 62-64\", \"B06001_011E\": \"Ages 65-74\", \"B06001_012E\": \"Ages 75+\"})"
   ]
  },
  {
   "cell_type": "code",
   "execution_count": null,
   "metadata": {},
   "outputs": [],
   "source": [
    "CensusOverviewAge"
   ]
  },
  {
   "cell_type": "code",
   "execution_count": null,
   "metadata": {},
   "outputs": [],
   "source": [
    "merged"
   ]
  },
  {
   "cell_type": "code",
   "execution_count": null,
   "metadata": {},
   "outputs": [],
   "source": [
    "CensusOverviewMerged2 = pd.merge(CensusOverviewIncome, CensusOverviewAge, left_index=True, right_index=True)"
   ]
  },
  {
   "cell_type": "code",
   "execution_count": null,
   "metadata": {},
   "outputs": [],
   "source": [
    "CensusOverviewMerged3 = pd.merge(CensusOverviewMerged2, CensusOverviewEducation, left_index=True, right_index=True)"
   ]
  },
  {
   "cell_type": "code",
   "execution_count": null,
   "metadata": {},
   "outputs": [],
   "source": [
    "CensusOverviewMerged4 = pd.merge(CensusOverviewMerged3, CensusOverviewEthnicity, left_index=True, right_index=True)"
   ]
  },
  {
   "cell_type": "code",
   "execution_count": null,
   "metadata": {},
   "outputs": [],
   "source": [
    "CensusOverviewMergedALL = pd.merge(CensusOverviewMerged4, CensusOverviewRace, left_index=True, right_index=True)"
   ]
  },
  {
   "cell_type": "code",
   "execution_count": null,
   "metadata": {},
   "outputs": [],
   "source": [
    "CensusOverviewMergedALL"
   ]
  },
  {
   "cell_type": "code",
   "execution_count": null,
   "metadata": {},
   "outputs": [],
   "source": [
    "allcsv = CensusOverviewMergedAll.to_csv(\"/Users/peytoncox/allcsv\", index=False)"
   ]
  },
  {
   "cell_type": "code",
   "execution_count": null,
   "metadata": {},
   "outputs": [],
   "source": []
  },
  {
   "cell_type": "code",
   "execution_count": null,
   "metadata": {},
   "outputs": [],
   "source": []
  },
  {
   "cell_type": "code",
   "execution_count": null,
   "metadata": {},
   "outputs": [],
   "source": []
  },
  {
   "cell_type": "code",
   "execution_count": null,
   "metadata": {},
   "outputs": [],
   "source": []
  },
  {
   "cell_type": "code",
   "execution_count": null,
   "metadata": {},
   "outputs": [],
   "source": [
    " "
   ]
  },
  {
   "cell_type": "code",
   "execution_count": null,
   "metadata": {},
   "outputs": [],
   "source": [
    "#ETHNICITY"
   ]
  },
  {
   "cell_type": "code",
   "execution_count": null,
   "metadata": {
    "scrolled": true
   },
   "outputs": [],
   "source": [
    "#This one DOES have block groups\n",
    "import pandas as pd ; import censusdata\n",
    "censusdata.printtable(censusdata.censustable('acs5', 2018, 'B03003'))"
   ]
  },
  {
   "cell_type": "code",
   "execution_count": null,
   "metadata": {},
   "outputs": [],
   "source": [
    "CensusOverviewEthnicity = censusdata.download('acs5', 2018, censusdata.censusgeo([('state', '37'), ('county', '*')]), [\"B03003_001E\", \"B03003_002E\", \"B03003_003E\"])"
   ]
  },
  {
   "cell_type": "code",
   "execution_count": null,
   "metadata": {},
   "outputs": [],
   "source": [
    "CensusOverviewEthnicity = CensusOverviewEthnicity.rename(columns={\"B03003_001E\": \"Estimated Total\", \"B03003_002E\": \"No Hispanic or Latino\", \"B03003_003E\": \"Hispanic or Latino\"})"
   ]
  },
  {
   "cell_type": "code",
   "execution_count": null,
   "metadata": {},
   "outputs": [],
   "source": [
    "CensusOverviewEthnicity"
   ]
  },
  {
   "cell_type": "code",
   "execution_count": null,
   "metadata": {},
   "outputs": [],
   "source": [
    "counties = censusdata.geographies(censusdata.censusgeo([('state', '37'), ('county', '*')]), 'acs5', 2018)"
   ]
  },
  {
   "cell_type": "code",
   "execution_count": null,
   "metadata": {},
   "outputs": [],
   "source": [
    "import re\n",
    "# this will get you all the \"answers\" (e.g. 'B02001_001E') associated with a particular 'question' ('B02001')\n",
    "\n",
    "mapping = {k: re.sub(\"(Total)|(Estimate)|\\\\!\", \"\", v['label']) or \"Total\" \n",
    "           for k,v in censusdata.censustable('acs5', 2018, 'B03003').items()}\n",
    "mapping"
   ]
  },
  {
   "cell_type": "code",
   "execution_count": null,
   "metadata": {},
   "outputs": [],
   "source": [
    "ethnicities = list(mapping.keys()) # get just the 'questions'"
   ]
  },
  {
   "cell_type": "code",
   "execution_count": null,
   "metadata": {},
   "outputs": [],
   "source": [
    "ethnicities"
   ]
  },
  {
   "cell_type": "code",
   "execution_count": null,
   "metadata": {},
   "outputs": [],
   "source": []
  },
  {
   "cell_type": "code",
   "execution_count": null,
   "metadata": {},
   "outputs": [],
   "source": [
    "# get all the counties in North Carolina, mapped \n",
    "counties = censusdata.geographies(censusdata.censusgeo([('state', '37'), ('county', '*')]), 'acs5', 2018)\n",
    "counties"
   ]
  },
  {
   "cell_type": "code",
   "execution_count": null,
   "metadata": {},
   "outputs": [],
   "source": [
    "'''ethnicitymaybe = []\n",
    "\n",
    "categories = ['B03003','B02001']\n",
    "# censuslist = []\n",
    "# for ethnicity in ethnicities:\n",
    "for category in categories:\n",
    "    \n",
    "    mapping = {k: re.sub(\"(Total)|(Estimate)|\\\\!\", \"\", v['label']) or \"Total\" \n",
    "           for k,v in censusdata.censustable('acs5', 2018, category).items()}\n",
    "    \n",
    "    question_ids = list(mapping.keys())\n",
    "\n",
    "    censuslist = []\n",
    "    for countyname, county in counties.items(): # for each of our counties, do the following:\n",
    "    \n",
    "        # download the data for a list of 'answers'\n",
    "        CensusOverviewEthnicity = censusdata.download('acs5', 2018, \n",
    "                                         censusdata.censusgeo([('state', '37'), ('county', county.geo[1][1]), ('tract', tract.geo[1][1]), ('block group', '*')]), \n",
    "                                         question_ids)\n",
    "        CensusOverviewEthnicity[\"county_name\"] = countyname # add a new column \n",
    "        track_group = CensusOverviewEthnicity.reset_index()['index'].apply(lambda x: x.geo[2][1])\n",
    "        block_group = CensusOverviewEthnicity.reset_index()['index'].apply(lambda x: x.geo[3][1]) # extract block_group\n",
    "        CensusOverviewEthnicity = CensusOverviewEthnicity.reset_index(drop=True) # clear the index - we don't need it any more\n",
    "        CensusOverviewEthnicity['track_group'] = track_group\n",
    "        CensusOverviewEthnicity['block_group'] = block_group # add block_group to the dataframe\n",
    "        censuslist.append(CensusOverviewEthnicity) # add this dataframe to our list of dataframes\n",
    "    \n",
    "    dataframe = pd.concat(censuslist, ignore_index = True) # squish our list of dataframes into one big dataframe\n",
    "    dataframe.to_csv(\"/Users/peytoncox/{}doubleloopmaybe.csv\".format(category))\n",
    "\n",
    "# dataethnicities = pd.concat(ethnicitymaybe, ignore_index = True) \n",
    "'''"
   ]
  },
  {
   "cell_type": "code",
   "execution_count": null,
   "metadata": {},
   "outputs": [],
   "source": [
    "data = censusdata.download('acs5', 2018, censusdata.censusgeo([('state', '37'), ('county', county.geo[1][1]), ('block group', '*')]), \n",
    "                                         question_ids)"
   ]
  },
  {
   "cell_type": "code",
   "execution_count": null,
   "metadata": {},
   "outputs": [],
   "source": [
    "data.index[0].geo[2][1]"
   ]
  },
  {
   "cell_type": "code",
   "execution_count": null,
   "metadata": {},
   "outputs": [],
   "source": [
    "data.head(20)"
   ]
  },
  {
   "cell_type": "code",
   "execution_count": null,
   "metadata": {},
   "outputs": [],
   "source": [
    "\"{}_stuff\".format(category)"
   ]
  },
  {
   "cell_type": "code",
   "execution_count": null,
   "metadata": {},
   "outputs": [],
   "source": [
    "dataframe.head()"
   ]
  },
  {
   "cell_type": "code",
   "execution_count": null,
   "metadata": {},
   "outputs": [],
   "source": [
    "meltedethnicity = pd.melt(dataframe, id_vars=['county_name','block_group'])\n",
    "meltedethnicity['variable'] = meltedethnicity['variable'].replace(mapping)\n",
    "meltedethnicity.head()"
   ]
  },
  {
   "cell_type": "code",
   "execution_count": null,
   "metadata": {},
   "outputs": [],
   "source": []
  },
  {
   "cell_type": "code",
   "execution_count": null,
   "metadata": {},
   "outputs": [],
   "source": []
  },
  {
   "cell_type": "code",
   "execution_count": null,
   "metadata": {},
   "outputs": [],
   "source": [
    "trial1[['age', 'race']] #pull out certain columns"
   ]
  },
  {
   "cell_type": "code",
   "execution_count": null,
   "metadata": {},
   "outputs": [],
   "source": [
    "CensusOverviewEthnicity = censusdata.download('acs5', 2018, censusdata.censusgeo([('state', '37'), ('county', '*')]), [\"B03003_001E\", \"B03003_002E\", \"B03003_003E\"])\n",
    "UpdatedCensusOverviewEth =CensusOverviewEthnicity[['B03003_002E', 'B03003_003E']]"
   ]
  },
  {
   "cell_type": "code",
   "execution_count": 10,
   "metadata": {
    "scrolled": true
   },
   "outputs": [
    {
     "ename": "NameError",
     "evalue": "name 'UpdatedCensusOverviewEth' is not defined",
     "output_type": "error",
     "traceback": [
      "\u001b[0;31m---------------------------------------------------------------------------\u001b[0m",
      "\u001b[0;31mNameError\u001b[0m                                 Traceback (most recent call last)",
      "\u001b[0;32m<ipython-input-10-db07e5e26814>\u001b[0m in \u001b[0;36m<module>\u001b[0;34m\u001b[0m\n\u001b[0;32m----> 1\u001b[0;31m \u001b[0mUpdatedCensusOverviewEth\u001b[0m\u001b[0;34m\u001b[0m\u001b[0;34m\u001b[0m\u001b[0m\n\u001b[0m",
      "\u001b[0;31mNameError\u001b[0m: name 'UpdatedCensusOverviewEth' is not defined"
     ]
    }
   ],
   "source": [
    "UpdatedCensusOverviewEth"
   ]
  },
  {
   "cell_type": "code",
   "execution_count": null,
   "metadata": {},
   "outputs": [],
   "source": [
    "\n"
   ]
  },
  {
   "cell_type": "code",
   "execution_count": null,
   "metadata": {},
   "outputs": [],
   "source": []
  }
 ],
 "metadata": {
  "kernelspec": {
   "display_name": "Python 3",
   "language": "python",
   "name": "python3"
  },
  "language_info": {
   "codemirror_mode": {
    "name": "ipython",
    "version": 3
   },
   "file_extension": ".py",
   "mimetype": "text/x-python",
   "name": "python",
   "nbconvert_exporter": "python",
   "pygments_lexer": "ipython3",
   "version": "3.7.6"
  }
 },
 "nbformat": 4,
 "nbformat_minor": 4
}
