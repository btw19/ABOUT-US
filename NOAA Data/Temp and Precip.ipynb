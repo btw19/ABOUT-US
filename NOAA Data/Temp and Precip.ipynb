{
 "cells": [
  {
   "cell_type": "code",
   "execution_count": 1,
   "metadata": {},
   "outputs": [
    {
     "data": {
      "text/plain": [
       "'1.0.3'"
      ]
     },
     "execution_count": 1,
     "metadata": {},
     "output_type": "execute_result"
    }
   ],
   "source": [
    "import pandas\n",
    "pandas.__version__"
   ]
  },
  {
   "cell_type": "code",
   "execution_count": 8,
   "metadata": {},
   "outputs": [
    {
     "name": "stdout",
     "output_type": "stream",
     "text": [
      "28908\n",
      "28909\n",
      "28910\n",
      "Elapsed time during observation collection in seconds: 242.38551106801606\n",
      "Elapsed time during the for loop plus observations in seconds: 242.38571234900155\n"
     ]
    }
   ],
   "source": [
    "from noaa_sdk import noaa\n",
    "import csv\n",
    "import os\n",
    "import glob\n",
    "import pandas as pd\n",
    "from time import perf_counter\n",
    "#with open('zips.csv', 'r') as f:\n",
    "#reader = csv.reader(f)\n",
    "#for row in reader:\n",
    "#print(row)\n",
    "n = noaa.NOAA()\n",
    "extension = '.csv'\n",
    "t1_start = perf_counter()\n",
    "\n",
    "for k in range(28908, 28911):\n",
    "#for k in range(27006, 27010):\n",
    "    zipcode = str(k)\n",
    "    print(k)\n",
    "    try:\n",
    "        observations = n.get_observations(zipcode,'US')\n",
    "    except:\n",
    "        pass\n",
    "    #observations = n.get_observations(zipcode,'US')\n",
    "    x = list(observations)\n",
    "    #len(x)\n",
    "    timelist = []\n",
    "    templist = []\n",
    "    precip1list= []\n",
    "    precip3list= []\n",
    "    precip6list= []\n",
    "    t1_stop = perf_counter() \n",
    "    for i in range(len(x)):\n",
    "        y=x[i]\n",
    "        #print(y)\n",
    "        items = list(y.items())\n",
    "        #print(items)\n",
    "        temp = list(items[9][1].items())\n",
    "        #print(temp[0][1])\n",
    "        templist.append(round(temp[0][1] or 0, 1))\n",
    "        precip1 = list(items[19][1].items())\n",
    "        precip1list.append(precip1[0][1] or 0)\n",
    "        precip3 = list(items[20][1].items())\n",
    "        precip3list.append(precip3[0][1] or 0)\n",
    "        precip6 = list(items[21][1].items())\n",
    "        precip6list.append(precip6[0][1] or 0)\n",
    "        timelist.append(items[4][1])\n",
    "        filename = zipcode + extension\n",
    "        with open(filename, 'w') as csvfile:\n",
    "            writer = csv.writer(csvfile)\n",
    "            #writer.writerow([zipcode, '', '', '', ''])\n",
    "            writer.writerow(['TimeStamp', 'Temperature(C)', 'Precipiation Last Hour(m)', 'Precipitation Last 3 Hours(m)', 'Precipitation Last 6 Hours(m)', 'Zip Code'])\n",
    "            for i, (time2, temp2, precip12, precip32, precip62) in enumerate(zip(timelist, templist, precip1list, precip3list, precip6list)):\n",
    "                row = [zipcode] #if i == 0 else ['']\n",
    "                writer.writerow([time2, temp2, precip12, precip32, precip62] + row)\n",
    "            \n",
    "                  \n",
    "t2_stop = perf_counter() \n",
    "#for i in range(len(x)):\n",
    "   # y=x[i]\n",
    "    #print(y)\n",
    "    #items = list(y.items())\n",
    "    #print(items)\n",
    "    #precip1 = list(items[19][1].items())\n",
    "    #precip1list.append(precip1[0][1] or 0)\n",
    "\n",
    "#for i in range(len(x)):\n",
    "    #y=x[i]\n",
    "    #print(y)\n",
    "    #items = list(y.items())\n",
    "    #print(items)\n",
    "    #precip3 = list(items[20][1].items())\n",
    "    #precip3list.append(precip3[0][1] or 0)\n",
    "\n",
    "#for i in range(len(x)):\n",
    "    #y=x[i]\n",
    "    #print(y)\n",
    "    #items = list(y.items())\n",
    "    #print(items)\n",
    "    #precip6 = list(items[21][1].items())\n",
    "    #precip6list.append(precip6[0][1] or 0)\n",
    "\n",
    "#for i in range(len(x)):\n",
    "    #y=x[i]\n",
    "    #print(y)\n",
    "    #items = list(y.items())\n",
    "    #print(items[4][1])\n",
    "    #time = list(items[4][1].items())\n",
    "    #print(time[0][1])\n",
    "    #timelist.append(items[4][1])\n",
    "\n",
    "#len(timelist)\n",
    "#print(timelist)\n",
    "#total = zip(timelist, templist, precip1list, precip3list, precip6list)\n",
    "#list(total)\n",
    "\n",
    "#with open('27006.csv', 'r') as f:\n",
    "#    reader = csv.reader(f)\n",
    "#    for row in reader:\n",
    "#        print(row)\n",
    "        \n",
    "print(\"Elapsed time during observation collection in seconds:\", t1_stop-t1_start)\n",
    "print(\"Elapsed time during the for loop plus observations in seconds:\", t2_stop-t1_start) \n",
    "#print(\"Elapsed time during the for loop plus write and observations in seconds:\", t3_stop-t1_start) \n",
    "#print(\"Elapsed time during the whole program in seconds:\", t3_stop-t1_start) "
   ]
  },
  {
   "cell_type": "code",
   "execution_count": null,
   "metadata": {},
   "outputs": [],
   "source": []
  }
 ],
 "metadata": {
  "kernelspec": {
   "display_name": "waterkernel",
   "language": "python",
   "name": "waterkernel"
  },
  "language_info": {
   "codemirror_mode": {
    "name": "ipython",
    "version": 3
   },
   "file_extension": ".py",
   "mimetype": "text/x-python",
   "name": "python",
   "nbconvert_exporter": "python",
   "pygments_lexer": "ipython3",
   "version": "3.6.10"
  }
 },
 "nbformat": 4,
 "nbformat_minor": 4
}
