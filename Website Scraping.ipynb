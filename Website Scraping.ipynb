{
 "cells": [
  {
   "cell_type": "code",
   "execution_count": 1,
   "metadata": {},
   "outputs": [
    {
     "name": "stdout",
     "output_type": "stream",
     "text": [
      "Requirement already satisfied: requests in ./opt/anaconda3/lib/python3.7/site-packages (2.22.0)\n",
      "Requirement already satisfied: certifi>=2017.4.17 in ./opt/anaconda3/lib/python3.7/site-packages (from requests) (2019.11.28)\n",
      "Requirement already satisfied: idna<2.9,>=2.5 in ./opt/anaconda3/lib/python3.7/site-packages (from requests) (2.8)\n",
      "Requirement already satisfied: chardet<3.1.0,>=3.0.2 in ./opt/anaconda3/lib/python3.7/site-packages (from requests) (3.0.4)\n",
      "Requirement already satisfied: urllib3!=1.25.0,!=1.25.1,<1.26,>=1.21.1 in ./opt/anaconda3/lib/python3.7/site-packages (from requests) (1.25.8)\n",
      "Note: you may need to restart the kernel to use updated packages.\n"
     ]
    }
   ],
   "source": [
    "pip install requests"
   ]
  },
  {
   "cell_type": "code",
   "execution_count": 2,
   "metadata": {
    "scrolled": true
   },
   "outputs": [
    {
     "name": "stdout",
     "output_type": "stream",
     "text": [
      "Requirement already satisfied: beautifulsoup4 in ./opt/anaconda3/lib/python3.7/site-packages (4.8.2)\n",
      "Requirement already satisfied: soupsieve>=1.2 in ./opt/anaconda3/lib/python3.7/site-packages (from beautifulsoup4) (1.9.5)\n",
      "Note: you may need to restart the kernel to use updated packages.\n"
     ]
    }
   ],
   "source": [
    "pip install beautifulsoup4"
   ]
  },
  {
   "cell_type": "code",
   "execution_count": 3,
   "metadata": {},
   "outputs": [
    {
     "name": "stdout",
     "output_type": "stream",
     "text": [
      "Requirement already satisfied: requests in ./opt/anaconda3/lib/python3.7/site-packages (2.22.0)\n",
      "Requirement already satisfied: chardet<3.1.0,>=3.0.2 in ./opt/anaconda3/lib/python3.7/site-packages (from requests) (3.0.4)\n",
      "Requirement already satisfied: idna<2.9,>=2.5 in ./opt/anaconda3/lib/python3.7/site-packages (from requests) (2.8)\n",
      "Requirement already satisfied: certifi>=2017.4.17 in ./opt/anaconda3/lib/python3.7/site-packages (from requests) (2019.11.28)\n",
      "Requirement already satisfied: urllib3!=1.25.0,!=1.25.1,<1.26,>=1.21.1 in ./opt/anaconda3/lib/python3.7/site-packages (from requests) (1.25.8)\n",
      "Note: you may need to restart the kernel to use updated packages.\n"
     ]
    }
   ],
   "source": [
    "pip install requests"
   ]
  },
  {
   "cell_type": "code",
   "execution_count": 4,
   "metadata": {},
   "outputs": [
    {
     "name": "stdout",
     "output_type": "stream",
     "text": [
      "Requirement already satisfied: pipenv in ./.local/lib/python3.7/site-packages (2020.6.2)\n",
      "Requirement already satisfied: virtualenv in ./.local/lib/python3.7/site-packages (from pipenv) (20.0.21)\n",
      "Requirement already satisfied: certifi in ./opt/anaconda3/lib/python3.7/site-packages (from pipenv) (2019.11.28)\n",
      "Requirement already satisfied: virtualenv-clone>=0.2.5 in ./.local/lib/python3.7/site-packages (from pipenv) (0.5.4)\n",
      "Requirement already satisfied: pip>=18.0 in ./opt/anaconda3/lib/python3.7/site-packages (from pipenv) (20.0.2)\n",
      "Requirement already satisfied: setuptools>=36.2.1 in ./opt/anaconda3/lib/python3.7/site-packages (from pipenv) (46.0.0.post20200309)\n",
      "Requirement already satisfied: importlib-metadata<2,>=0.12; python_version < \"3.8\" in ./opt/anaconda3/lib/python3.7/site-packages (from virtualenv->pipenv) (1.5.0)\n",
      "Requirement already satisfied: appdirs<2,>=1.4.3 in ./.local/lib/python3.7/site-packages (from virtualenv->pipenv) (1.4.4)\n",
      "Requirement already satisfied: filelock<4,>=3.0.0 in ./opt/anaconda3/lib/python3.7/site-packages (from virtualenv->pipenv) (3.0.12)\n",
      "Requirement already satisfied: distlib<1,>=0.3.0 in ./.local/lib/python3.7/site-packages (from virtualenv->pipenv) (0.3.0)\n",
      "Requirement already satisfied: six<2,>=1.9.0 in ./opt/anaconda3/lib/python3.7/site-packages (from virtualenv->pipenv) (1.14.0)\n",
      "Requirement already satisfied: zipp>=0.5 in ./opt/anaconda3/lib/python3.7/site-packages (from importlib-metadata<2,>=0.12; python_version < \"3.8\"->virtualenv->pipenv) (2.2.0)\n",
      "Note: you may need to restart the kernel to use updated packages.\n"
     ]
    }
   ],
   "source": [
    "pip install --user pipenv"
   ]
  },
  {
   "cell_type": "code",
   "execution_count": 5,
   "metadata": {},
   "outputs": [],
   "source": [
    "import requests"
   ]
  },
  {
   "cell_type": "code",
   "execution_count": 6,
   "metadata": {},
   "outputs": [],
   "source": [
    "import pandas as pd\n",
    "from bs4 import BeautifulSoup\n",
    "import lxml.html as lh"
   ]
  },
  {
   "cell_type": "code",
   "execution_count": 7,
   "metadata": {},
   "outputs": [
    {
     "data": {
      "text/plain": [
       "[7, 7, 7, 7, 7, 7, 7, 7, 7, 7, 7, 7]"
      ]
     },
     "execution_count": 7,
     "metadata": {},
     "output_type": "execute_result"
    }
   ],
   "source": [
    "#Eventually make this a function\n",
    "response = requests.get('https://www.ncwater.org/Drought_Monitoring/statusReport.php/')\n",
    "stored_contents = lh.fromstring(response.content)\n",
    "table_elements = stored_contents.xpath('//tr')\n",
    "[len(T) for T in table_elements[:12]]"
   ]
  },
  {
   "cell_type": "code",
   "execution_count": 8,
   "metadata": {},
   "outputs": [
    {
     "name": "stdout",
     "output_type": "stream",
     "text": [
      "1 PWSID\n",
      "2 Water System\n",
      "3 Status\n",
      "4 Reason for Restriction\n",
      "5 County\n",
      "6 Date of Last Update\n",
      "7 Latest WSRP\n"
     ]
    }
   ],
   "source": [
    "#Create empty list\n",
    "col=[]\n",
    "i=0\n",
    "\n",
    "#For each row, store each first element (header) and an empty list\n",
    "for t in table_elements[0]:\n",
    "    i+=1\n",
    "    name=t.text_content()\n",
    "    print (i,name)\n",
    "    col.append((name,[]))"
   ]
  },
  {
   "cell_type": "code",
   "execution_count": 9,
   "metadata": {},
   "outputs": [],
   "source": [
    "#Since out first row is the header, data is stored on the second row onwards\n",
    "for j in range(1,len(table_elements)):\n",
    "    #T is our j'th row\n",
    "    T=table_elements[j]\n",
    "    \n",
    "    #If row is not of size 10, the //tr data is not from our table \n",
    "    if len(T)!=7:\n",
    "        break\n",
    "    #i is the index of our column\n",
    "    i=0\n",
    "    \n",
    "    #Iterate through each element of the row\n",
    "    for t in T.iterchildren():\n",
    "        data=t.text_content() \n",
    "        #Check if row is empty\n",
    "        if i>0:\n",
    "        #Convert any numerical value to integers\n",
    "            try:\n",
    "                data=int(data)\n",
    "            except:\n",
    "                pass\n",
    "        #Append the data to the empty list of the i'th column\n",
    "        col[i][1].append(data)\n",
    "        #Increment i for the next column\n",
    "        i+=1"
   ]
  },
  {
   "cell_type": "code",
   "execution_count": 10,
   "metadata": {},
   "outputs": [
    {
     "data": {
      "text/plain": [
       "[539, 539, 539, 539, 539, 539, 539]"
      ]
     },
     "execution_count": 10,
     "metadata": {},
     "output_type": "execute_result"
    }
   ],
   "source": [
    "[len(C) for (title,C) in col]"
   ]
  },
  {
   "cell_type": "code",
   "execution_count": 11,
   "metadata": {},
   "outputs": [],
   "source": [
    "Dict ={title:column for (title,column) in col}\n",
    "Newest_Updates =pd.DataFrame(Dict)"
   ]
  },
  {
   "cell_type": "code",
   "execution_count": 12,
   "metadata": {},
   "outputs": [
    {
     "data": {
      "text/html": [
       "<div>\n",
       "<style scoped>\n",
       "    .dataframe tbody tr th:only-of-type {\n",
       "        vertical-align: middle;\n",
       "    }\n",
       "\n",
       "    .dataframe tbody tr th {\n",
       "        vertical-align: top;\n",
       "    }\n",
       "\n",
       "    .dataframe thead th {\n",
       "        text-align: right;\n",
       "    }\n",
       "</style>\n",
       "<table border=\"1\" class=\"dataframe\">\n",
       "  <thead>\n",
       "    <tr style=\"text-align: right;\">\n",
       "      <th></th>\n",
       "      <th>PWSID</th>\n",
       "      <th>Water System</th>\n",
       "      <th>Status</th>\n",
       "      <th>Reason for Restriction</th>\n",
       "      <th>County</th>\n",
       "      <th>Date of Last Update</th>\n",
       "      <th>Latest WSRP</th>\n",
       "    </tr>\n",
       "  </thead>\n",
       "  <tbody>\n",
       "    <tr>\n",
       "      <th>0</th>\n",
       "      <td>04-71-111</td>\n",
       "      <td>BELVEDERE PLANTATION</td>\n",
       "      <td>Voluntary</td>\n",
       "      <td>Drought</td>\n",
       "      <td>PENDER</td>\n",
       "      <td>2020-02-13</td>\n",
       "      <td>2018-08-21</td>\n",
       "    </tr>\n",
       "    <tr>\n",
       "      <th>1</th>\n",
       "      <td>01-44-015</td>\n",
       "      <td>Canton</td>\n",
       "      <td>Voluntary</td>\n",
       "      <td>Drought</td>\n",
       "      <td>HAYWOOD</td>\n",
       "      <td>2020-06-05</td>\n",
       "      <td>2018-10-29</td>\n",
       "    </tr>\n",
       "    <tr>\n",
       "      <th>2</th>\n",
       "      <td>03-43-010</td>\n",
       "      <td>Dunn</td>\n",
       "      <td>Not Restricted</td>\n",
       "      <td></td>\n",
       "      <td>HARNETT</td>\n",
       "      <td>2020-05-04</td>\n",
       "      <td>2018-10-19</td>\n",
       "    </tr>\n",
       "    <tr>\n",
       "      <th>3</th>\n",
       "      <td>03-32-010</td>\n",
       "      <td>Durham</td>\n",
       "      <td>Mandatory</td>\n",
       "      <td>Year Round</td>\n",
       "      <td>DURHAM</td>\n",
       "      <td>2020-06-10</td>\n",
       "      <td>2017-02-08</td>\n",
       "    </tr>\n",
       "    <tr>\n",
       "      <th>4</th>\n",
       "      <td>04-25-132</td>\n",
       "      <td>Fairfield Harbour</td>\n",
       "      <td>Voluntary</td>\n",
       "      <td>Drought</td>\n",
       "      <td>CRAVEN</td>\n",
       "      <td>2020-02-13</td>\n",
       "      <td>2018-08-24</td>\n",
       "    </tr>\n",
       "    <tr>\n",
       "      <th>...</th>\n",
       "      <td>...</td>\n",
       "      <td>...</td>\n",
       "      <td>...</td>\n",
       "      <td>...</td>\n",
       "      <td>...</td>\n",
       "      <td>...</td>\n",
       "      <td>...</td>\n",
       "    </tr>\n",
       "    <tr>\n",
       "      <th>534</th>\n",
       "      <td>04-08-010</td>\n",
       "      <td>Windsor</td>\n",
       "      <td>Not Restricted</td>\n",
       "      <td></td>\n",
       "      <td>BERTIE</td>\n",
       "      <td>2011-04-14</td>\n",
       "      <td>2018-08-07</td>\n",
       "    </tr>\n",
       "    <tr>\n",
       "      <th>535</th>\n",
       "      <td>04-46-020</td>\n",
       "      <td>Winton</td>\n",
       "      <td>Not Restricted</td>\n",
       "      <td></td>\n",
       "      <td>HERTFORD</td>\n",
       "      <td>2011-05-03</td>\n",
       "      <td>2018-04-26</td>\n",
       "    </tr>\n",
       "    <tr>\n",
       "      <th>536</th>\n",
       "      <td>04-66-040</td>\n",
       "      <td>Woodland</td>\n",
       "      <td>Not Restricted</td>\n",
       "      <td></td>\n",
       "      <td>NORTHAMPTON</td>\n",
       "      <td>2011-05-06</td>\n",
       "      <td>2018-06-11</td>\n",
       "    </tr>\n",
       "    <tr>\n",
       "      <th>537</th>\n",
       "      <td>04-65-020</td>\n",
       "      <td>Wrightsville Beach</td>\n",
       "      <td>Not Restricted</td>\n",
       "      <td></td>\n",
       "      <td>NEW HANOVER</td>\n",
       "      <td>2011-07-27</td>\n",
       "      <td>2019-01-29</td>\n",
       "    </tr>\n",
       "    <tr>\n",
       "      <th>538</th>\n",
       "      <td>02-17-010</td>\n",
       "      <td>Yanceyville</td>\n",
       "      <td>Not Restricted</td>\n",
       "      <td></td>\n",
       "      <td>CASWELL</td>\n",
       "      <td>2011-05-04</td>\n",
       "      <td></td>\n",
       "    </tr>\n",
       "  </tbody>\n",
       "</table>\n",
       "<p>539 rows × 7 columns</p>\n",
       "</div>"
      ],
      "text/plain": [
       "         PWSID          Water System          Status Reason for Restriction  \\\n",
       "0    04-71-111  BELVEDERE PLANTATION       Voluntary                Drought   \n",
       "1    01-44-015                Canton       Voluntary                Drought   \n",
       "2    03-43-010                  Dunn  Not Restricted                          \n",
       "3    03-32-010                Durham       Mandatory             Year Round   \n",
       "4    04-25-132     Fairfield Harbour       Voluntary                Drought   \n",
       "..         ...                   ...             ...                    ...   \n",
       "534  04-08-010               Windsor  Not Restricted                          \n",
       "535  04-46-020                Winton  Not Restricted                          \n",
       "536  04-66-040              Woodland  Not Restricted                          \n",
       "537  04-65-020    Wrightsville Beach  Not Restricted                          \n",
       "538  02-17-010           Yanceyville  Not Restricted                          \n",
       "\n",
       "          County Date of Last Update Latest WSRP  \n",
       "0         PENDER          2020-02-13  2018-08-21  \n",
       "1        HAYWOOD          2020-06-05  2018-10-29  \n",
       "2        HARNETT          2020-05-04  2018-10-19  \n",
       "3         DURHAM          2020-06-10  2017-02-08  \n",
       "4         CRAVEN          2020-02-13  2018-08-24  \n",
       "..           ...                 ...         ...  \n",
       "534       BERTIE          2011-04-14  2018-08-07  \n",
       "535     HERTFORD          2011-05-03  2018-04-26  \n",
       "536  NORTHAMPTON          2011-05-06  2018-06-11  \n",
       "537  NEW HANOVER          2011-07-27  2019-01-29  \n",
       "538      CASWELL          2011-05-04              \n",
       "\n",
       "[539 rows x 7 columns]"
      ]
     },
     "execution_count": 12,
     "metadata": {},
     "output_type": "execute_result"
    }
   ],
   "source": [
    "Newest_Updates"
   ]
  },
  {
   "cell_type": "code",
   "execution_count": null,
   "metadata": {},
   "outputs": [],
   "source": []
  },
  {
   "cell_type": "code",
   "execution_count": null,
   "metadata": {},
   "outputs": [],
   "source": []
  },
  {
   "cell_type": "code",
   "execution_count": null,
   "metadata": {},
   "outputs": [],
   "source": []
  }
 ],
 "metadata": {
  "kernelspec": {
   "display_name": "Python 3",
   "language": "python",
   "name": "python3"
  },
  "language_info": {
   "codemirror_mode": {
    "name": "ipython",
    "version": 3
   },
   "file_extension": ".py",
   "mimetype": "text/x-python",
   "name": "python",
   "nbconvert_exporter": "python",
   "pygments_lexer": "ipython3",
   "version": "3.7.6"
  }
 },
 "nbformat": 4,
 "nbformat_minor": 4
}
